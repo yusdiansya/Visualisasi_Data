{
 "cells": [
  {
   "cell_type": "code",
   "execution_count": 1,
   "metadata": {},
   "outputs": [],
   "source": [
    "import pandas as pd\n",
    "import numpy as np\n",
    "import seaborn as sns                       #visualisation\n",
    "import matplotlib.pyplot as plt             #visualisation\n",
    "%matplotlib inline     \n",
    "sns.set(color_codes=True)"
   ]
  },
  {
   "cell_type": "code",
   "execution_count": 4,
   "metadata": {},
   "outputs": [
    {
     "data": {
      "text/html": [
       "<div>\n",
       "<style scoped>\n",
       "    .dataframe tbody tr th:only-of-type {\n",
       "        vertical-align: middle;\n",
       "    }\n",
       "\n",
       "    .dataframe tbody tr th {\n",
       "        vertical-align: top;\n",
       "    }\n",
       "\n",
       "    .dataframe thead th {\n",
       "        text-align: right;\n",
       "    }\n",
       "</style>\n",
       "<table border=\"1\" class=\"dataframe\">\n",
       "  <thead>\n",
       "    <tr style=\"text-align: right;\">\n",
       "      <th></th>\n",
       "      <th>Series_reference</th>\n",
       "      <th>Period</th>\n",
       "      <th>Data_value</th>\n",
       "      <th>STATUS</th>\n",
       "      <th>UNITS</th>\n",
       "      <th>Subject</th>\n",
       "      <th>Group</th>\n",
       "      <th>Series_title_1</th>\n",
       "    </tr>\n",
       "  </thead>\n",
       "  <tbody>\n",
       "    <tr>\n",
       "      <th>0</th>\n",
       "      <td>CPIM.SE901</td>\n",
       "      <td>1960.01</td>\n",
       "      <td>45.923461</td>\n",
       "      <td>FINAL</td>\n",
       "      <td>Index</td>\n",
       "      <td>Consumers Price Index - CPI</td>\n",
       "      <td>Food Price Index for New Zealand</td>\n",
       "      <td>Food</td>\n",
       "    </tr>\n",
       "    <tr>\n",
       "      <th>1</th>\n",
       "      <td>CPIM.SE901</td>\n",
       "      <td>1960.02</td>\n",
       "      <td>45.498637</td>\n",
       "      <td>FINAL</td>\n",
       "      <td>Index</td>\n",
       "      <td>Consumers Price Index - CPI</td>\n",
       "      <td>Food Price Index for New Zealand</td>\n",
       "      <td>Food</td>\n",
       "    </tr>\n",
       "    <tr>\n",
       "      <th>2</th>\n",
       "      <td>CPIM.SE901</td>\n",
       "      <td>1960.03</td>\n",
       "      <td>45.116296</td>\n",
       "      <td>FINAL</td>\n",
       "      <td>Index</td>\n",
       "      <td>Consumers Price Index - CPI</td>\n",
       "      <td>Food Price Index for New Zealand</td>\n",
       "      <td>Food</td>\n",
       "    </tr>\n",
       "    <tr>\n",
       "      <th>3</th>\n",
       "      <td>CPIM.SE901</td>\n",
       "      <td>1960.04</td>\n",
       "      <td>45.158779</td>\n",
       "      <td>FINAL</td>\n",
       "      <td>Index</td>\n",
       "      <td>Consumers Price Index - CPI</td>\n",
       "      <td>Food Price Index for New Zealand</td>\n",
       "      <td>Food</td>\n",
       "    </tr>\n",
       "    <tr>\n",
       "      <th>4</th>\n",
       "      <td>CPIM.SE901</td>\n",
       "      <td>1960.05</td>\n",
       "      <td>45.286226</td>\n",
       "      <td>FINAL</td>\n",
       "      <td>Index</td>\n",
       "      <td>Consumers Price Index - CPI</td>\n",
       "      <td>Food Price Index for New Zealand</td>\n",
       "      <td>Food</td>\n",
       "    </tr>\n",
       "  </tbody>\n",
       "</table>\n",
       "</div>"
      ],
      "text/plain": [
       "  Series_reference   Period  Data_value STATUS  UNITS  \\\n",
       "0       CPIM.SE901  1960.01   45.923461  FINAL  Index   \n",
       "1       CPIM.SE901  1960.02   45.498637  FINAL  Index   \n",
       "2       CPIM.SE901  1960.03   45.116296  FINAL  Index   \n",
       "3       CPIM.SE901  1960.04   45.158779  FINAL  Index   \n",
       "4       CPIM.SE901  1960.05   45.286226  FINAL  Index   \n",
       "\n",
       "                       Subject                             Group  \\\n",
       "0  Consumers Price Index - CPI  Food Price Index for New Zealand   \n",
       "1  Consumers Price Index - CPI  Food Price Index for New Zealand   \n",
       "2  Consumers Price Index - CPI  Food Price Index for New Zealand   \n",
       "3  Consumers Price Index - CPI  Food Price Index for New Zealand   \n",
       "4  Consumers Price Index - CPI  Food Price Index for New Zealand   \n",
       "\n",
       "  Series_title_1  \n",
       "0           Food  \n",
       "1           Food  \n",
       "2           Food  \n",
       "3           Food  \n",
       "4           Food  "
      ]
     },
     "execution_count": 4,
     "metadata": {},
     "output_type": "execute_result"
    }
   ],
   "source": [
    "df = pd.read_csv('food-price-index-Aug20-index-numbers-csv-tables.csv')\n",
    "df.head(5)"
   ]
  },
  {
   "cell_type": "code",
   "execution_count": 45,
   "metadata": {},
   "outputs": [
    {
     "data": {
      "text/html": [
       "<div>\n",
       "<style scoped>\n",
       "    .dataframe tbody tr th:only-of-type {\n",
       "        vertical-align: middle;\n",
       "    }\n",
       "\n",
       "    .dataframe tbody tr th {\n",
       "        vertical-align: top;\n",
       "    }\n",
       "\n",
       "    .dataframe thead th {\n",
       "        text-align: right;\n",
       "    }\n",
       "</style>\n",
       "<table border=\"1\" class=\"dataframe\">\n",
       "  <thead>\n",
       "    <tr style=\"text-align: right;\">\n",
       "      <th></th>\n",
       "      <th>Series_reference</th>\n",
       "      <th>Period</th>\n",
       "      <th>Data_value</th>\n",
       "      <th>STATUS</th>\n",
       "      <th>UNITS</th>\n",
       "      <th>Subject</th>\n",
       "      <th>Group</th>\n",
       "      <th>Series_title_1</th>\n",
       "    </tr>\n",
       "  </thead>\n",
       "  <tbody>\n",
       "    <tr>\n",
       "      <th>11494</th>\n",
       "      <td>CPIM.SE901502</td>\n",
       "      <td>2020.04</td>\n",
       "      <td>NaN</td>\n",
       "      <td>FINAL</td>\n",
       "      <td>Index</td>\n",
       "      <td>Consumers Price Index - CPI</td>\n",
       "      <td>Food Price Index Level 3 Classes for New Zealand</td>\n",
       "      <td>Ready-to-eat food</td>\n",
       "    </tr>\n",
       "    <tr>\n",
       "      <th>11495</th>\n",
       "      <td>CPIM.SE901502</td>\n",
       "      <td>2020.05</td>\n",
       "      <td>1102.0</td>\n",
       "      <td>FINAL</td>\n",
       "      <td>Index</td>\n",
       "      <td>Consumers Price Index - CPI</td>\n",
       "      <td>Food Price Index Level 3 Classes for New Zealand</td>\n",
       "      <td>Ready-to-eat food</td>\n",
       "    </tr>\n",
       "    <tr>\n",
       "      <th>11496</th>\n",
       "      <td>CPIM.SE901502</td>\n",
       "      <td>2020.06</td>\n",
       "      <td>1110.0</td>\n",
       "      <td>FINAL</td>\n",
       "      <td>Index</td>\n",
       "      <td>Consumers Price Index - CPI</td>\n",
       "      <td>Food Price Index Level 3 Classes for New Zealand</td>\n",
       "      <td>Ready-to-eat food</td>\n",
       "    </tr>\n",
       "    <tr>\n",
       "      <th>11497</th>\n",
       "      <td>CPIM.SE901502</td>\n",
       "      <td>2020.07</td>\n",
       "      <td>1111.0</td>\n",
       "      <td>FINAL</td>\n",
       "      <td>Index</td>\n",
       "      <td>Consumers Price Index - CPI</td>\n",
       "      <td>Food Price Index Level 3 Classes for New Zealand</td>\n",
       "      <td>Ready-to-eat food</td>\n",
       "    </tr>\n",
       "    <tr>\n",
       "      <th>11498</th>\n",
       "      <td>CPIM.SE901502</td>\n",
       "      <td>2020.08</td>\n",
       "      <td>1111.0</td>\n",
       "      <td>FINAL</td>\n",
       "      <td>Index</td>\n",
       "      <td>Consumers Price Index - CPI</td>\n",
       "      <td>Food Price Index Level 3 Classes for New Zealand</td>\n",
       "      <td>Ready-to-eat food</td>\n",
       "    </tr>\n",
       "  </tbody>\n",
       "</table>\n",
       "</div>"
      ],
      "text/plain": [
       "      Series_reference   Period  Data_value STATUS  UNITS  \\\n",
       "11494    CPIM.SE901502  2020.04         NaN  FINAL  Index   \n",
       "11495    CPIM.SE901502  2020.05      1102.0  FINAL  Index   \n",
       "11496    CPIM.SE901502  2020.06      1110.0  FINAL  Index   \n",
       "11497    CPIM.SE901502  2020.07      1111.0  FINAL  Index   \n",
       "11498    CPIM.SE901502  2020.08      1111.0  FINAL  Index   \n",
       "\n",
       "                           Subject  \\\n",
       "11494  Consumers Price Index - CPI   \n",
       "11495  Consumers Price Index - CPI   \n",
       "11496  Consumers Price Index - CPI   \n",
       "11497  Consumers Price Index - CPI   \n",
       "11498  Consumers Price Index - CPI   \n",
       "\n",
       "                                                  Group     Series_title_1  \n",
       "11494  Food Price Index Level 3 Classes for New Zealand  Ready-to-eat food  \n",
       "11495  Food Price Index Level 3 Classes for New Zealand  Ready-to-eat food  \n",
       "11496  Food Price Index Level 3 Classes for New Zealand  Ready-to-eat food  \n",
       "11497  Food Price Index Level 3 Classes for New Zealand  Ready-to-eat food  \n",
       "11498  Food Price Index Level 3 Classes for New Zealand  Ready-to-eat food  "
      ]
     },
     "execution_count": 45,
     "metadata": {},
     "output_type": "execute_result"
    }
   ],
   "source": [
    "df.tail(5) "
   ]
  },
  {
   "cell_type": "code",
   "execution_count": 3,
   "metadata": {},
   "outputs": [
    {
     "data": {
      "text/plain": [
       "Series_reference     object\n",
       "Period              float64\n",
       "Data_value          float64\n",
       "STATUS               object\n",
       "UNITS                object\n",
       "Subject              object\n",
       "Group                object\n",
       "Series_title_1       object\n",
       "dtype: object"
      ]
     },
     "execution_count": 3,
     "metadata": {},
     "output_type": "execute_result"
    }
   ],
   "source": [
    "df.dtypes"
   ]
  },
  {
   "cell_type": "code",
   "execution_count": 47,
   "metadata": {},
   "outputs": [
    {
     "data": {
      "text/html": [
       "<div>\n",
       "<style scoped>\n",
       "    .dataframe tbody tr th:only-of-type {\n",
       "        vertical-align: middle;\n",
       "    }\n",
       "\n",
       "    .dataframe tbody tr th {\n",
       "        vertical-align: top;\n",
       "    }\n",
       "\n",
       "    .dataframe thead th {\n",
       "        text-align: right;\n",
       "    }\n",
       "</style>\n",
       "<table border=\"1\" class=\"dataframe\">\n",
       "  <thead>\n",
       "    <tr style=\"text-align: right;\">\n",
       "      <th></th>\n",
       "      <th>Series_reference</th>\n",
       "      <th>Period</th>\n",
       "      <th>Data_value</th>\n",
       "      <th>STATUS</th>\n",
       "      <th>UNITS</th>\n",
       "      <th>Subject</th>\n",
       "      <th>Group</th>\n",
       "    </tr>\n",
       "  </thead>\n",
       "  <tbody>\n",
       "    <tr>\n",
       "      <th>0</th>\n",
       "      <td>CPIM.SE901</td>\n",
       "      <td>1960.01</td>\n",
       "      <td>45.923461</td>\n",
       "      <td>FINAL</td>\n",
       "      <td>Index</td>\n",
       "      <td>Consumers Price Index - CPI</td>\n",
       "      <td>Food Price Index for New Zealand</td>\n",
       "    </tr>\n",
       "    <tr>\n",
       "      <th>1</th>\n",
       "      <td>CPIM.SE901</td>\n",
       "      <td>1960.02</td>\n",
       "      <td>45.498637</td>\n",
       "      <td>FINAL</td>\n",
       "      <td>Index</td>\n",
       "      <td>Consumers Price Index - CPI</td>\n",
       "      <td>Food Price Index for New Zealand</td>\n",
       "    </tr>\n",
       "    <tr>\n",
       "      <th>2</th>\n",
       "      <td>CPIM.SE901</td>\n",
       "      <td>1960.03</td>\n",
       "      <td>45.116296</td>\n",
       "      <td>FINAL</td>\n",
       "      <td>Index</td>\n",
       "      <td>Consumers Price Index - CPI</td>\n",
       "      <td>Food Price Index for New Zealand</td>\n",
       "    </tr>\n",
       "    <tr>\n",
       "      <th>3</th>\n",
       "      <td>CPIM.SE901</td>\n",
       "      <td>1960.04</td>\n",
       "      <td>45.158779</td>\n",
       "      <td>FINAL</td>\n",
       "      <td>Index</td>\n",
       "      <td>Consumers Price Index - CPI</td>\n",
       "      <td>Food Price Index for New Zealand</td>\n",
       "    </tr>\n",
       "    <tr>\n",
       "      <th>4</th>\n",
       "      <td>CPIM.SE901</td>\n",
       "      <td>1960.05</td>\n",
       "      <td>45.286226</td>\n",
       "      <td>FINAL</td>\n",
       "      <td>Index</td>\n",
       "      <td>Consumers Price Index - CPI</td>\n",
       "      <td>Food Price Index for New Zealand</td>\n",
       "    </tr>\n",
       "  </tbody>\n",
       "</table>\n",
       "</div>"
      ],
      "text/plain": [
       "  Series_reference   Period  Data_value STATUS  UNITS  \\\n",
       "0       CPIM.SE901  1960.01   45.923461  FINAL  Index   \n",
       "1       CPIM.SE901  1960.02   45.498637  FINAL  Index   \n",
       "2       CPIM.SE901  1960.03   45.116296  FINAL  Index   \n",
       "3       CPIM.SE901  1960.04   45.158779  FINAL  Index   \n",
       "4       CPIM.SE901  1960.05   45.286226  FINAL  Index   \n",
       "\n",
       "                       Subject                             Group  \n",
       "0  Consumers Price Index - CPI  Food Price Index for New Zealand  \n",
       "1  Consumers Price Index - CPI  Food Price Index for New Zealand  \n",
       "2  Consumers Price Index - CPI  Food Price Index for New Zealand  \n",
       "3  Consumers Price Index - CPI  Food Price Index for New Zealand  \n",
       "4  Consumers Price Index - CPI  Food Price Index for New Zealand  "
      ]
     },
     "execution_count": 47,
     "metadata": {},
     "output_type": "execute_result"
    }
   ],
   "source": [
    "df = df.drop(['Series_title_1'], axis=1)\n",
    "df.head(5)"
   ]
  },
  {
   "cell_type": "code",
   "execution_count": 48,
   "metadata": {},
   "outputs": [
    {
     "data": {
      "text/html": [
       "<div>\n",
       "<style scoped>\n",
       "    .dataframe tbody tr th:only-of-type {\n",
       "        vertical-align: middle;\n",
       "    }\n",
       "\n",
       "    .dataframe tbody tr th {\n",
       "        vertical-align: top;\n",
       "    }\n",
       "\n",
       "    .dataframe thead th {\n",
       "        text-align: right;\n",
       "    }\n",
       "</style>\n",
       "<table border=\"1\" class=\"dataframe\">\n",
       "  <thead>\n",
       "    <tr style=\"text-align: right;\">\n",
       "      <th></th>\n",
       "      <th>Series_reference</th>\n",
       "      <th>Period</th>\n",
       "      <th>Data_value</th>\n",
       "      <th>STATUS</th>\n",
       "      <th>UNITS</th>\n",
       "      <th>Judul</th>\n",
       "      <th>Group</th>\n",
       "    </tr>\n",
       "  </thead>\n",
       "  <tbody>\n",
       "    <tr>\n",
       "      <th>0</th>\n",
       "      <td>CPIM.SE901</td>\n",
       "      <td>1960.01</td>\n",
       "      <td>45.923461</td>\n",
       "      <td>FINAL</td>\n",
       "      <td>Index</td>\n",
       "      <td>Consumers Price Index - CPI</td>\n",
       "      <td>Food Price Index for New Zealand</td>\n",
       "    </tr>\n",
       "    <tr>\n",
       "      <th>1</th>\n",
       "      <td>CPIM.SE901</td>\n",
       "      <td>1960.02</td>\n",
       "      <td>45.498637</td>\n",
       "      <td>FINAL</td>\n",
       "      <td>Index</td>\n",
       "      <td>Consumers Price Index - CPI</td>\n",
       "      <td>Food Price Index for New Zealand</td>\n",
       "    </tr>\n",
       "    <tr>\n",
       "      <th>2</th>\n",
       "      <td>CPIM.SE901</td>\n",
       "      <td>1960.03</td>\n",
       "      <td>45.116296</td>\n",
       "      <td>FINAL</td>\n",
       "      <td>Index</td>\n",
       "      <td>Consumers Price Index - CPI</td>\n",
       "      <td>Food Price Index for New Zealand</td>\n",
       "    </tr>\n",
       "    <tr>\n",
       "      <th>3</th>\n",
       "      <td>CPIM.SE901</td>\n",
       "      <td>1960.04</td>\n",
       "      <td>45.158779</td>\n",
       "      <td>FINAL</td>\n",
       "      <td>Index</td>\n",
       "      <td>Consumers Price Index - CPI</td>\n",
       "      <td>Food Price Index for New Zealand</td>\n",
       "    </tr>\n",
       "    <tr>\n",
       "      <th>4</th>\n",
       "      <td>CPIM.SE901</td>\n",
       "      <td>1960.05</td>\n",
       "      <td>45.286226</td>\n",
       "      <td>FINAL</td>\n",
       "      <td>Index</td>\n",
       "      <td>Consumers Price Index - CPI</td>\n",
       "      <td>Food Price Index for New Zealand</td>\n",
       "    </tr>\n",
       "  </tbody>\n",
       "</table>\n",
       "</div>"
      ],
      "text/plain": [
       "  Series_reference   Period  Data_value STATUS  UNITS  \\\n",
       "0       CPIM.SE901  1960.01   45.923461  FINAL  Index   \n",
       "1       CPIM.SE901  1960.02   45.498637  FINAL  Index   \n",
       "2       CPIM.SE901  1960.03   45.116296  FINAL  Index   \n",
       "3       CPIM.SE901  1960.04   45.158779  FINAL  Index   \n",
       "4       CPIM.SE901  1960.05   45.286226  FINAL  Index   \n",
       "\n",
       "                         Judul                             Group  \n",
       "0  Consumers Price Index - CPI  Food Price Index for New Zealand  \n",
       "1  Consumers Price Index - CPI  Food Price Index for New Zealand  \n",
       "2  Consumers Price Index - CPI  Food Price Index for New Zealand  \n",
       "3  Consumers Price Index - CPI  Food Price Index for New Zealand  \n",
       "4  Consumers Price Index - CPI  Food Price Index for New Zealand  "
      ]
     },
     "execution_count": 48,
     "metadata": {},
     "output_type": "execute_result"
    }
   ],
   "source": [
    "df = df.rename(columns={\"Subject\" : \"Judul\"})\n",
    "df.head(5)"
   ]
  },
  {
   "cell_type": "code",
   "execution_count": 49,
   "metadata": {},
   "outputs": [
    {
     "data": {
      "text/plain": [
       "(11499, 7)"
      ]
     },
     "execution_count": 49,
     "metadata": {},
     "output_type": "execute_result"
    }
   ],
   "source": [
    "df.shape"
   ]
  },
  {
   "cell_type": "code",
   "execution_count": 50,
   "metadata": {},
   "outputs": [
    {
     "name": "stdout",
     "output_type": "stream",
     "text": [
      "number of duplicate rows:  (0, 7)\n"
     ]
    }
   ],
   "source": [
    "duplicate_rows_df = df[df.duplicated()]\n",
    "print(\"number of duplicate rows: \", duplicate_rows_df.shape)"
   ]
  },
  {
   "cell_type": "code",
   "execution_count": 51,
   "metadata": {},
   "outputs": [
    {
     "data": {
      "text/plain": [
       "Series_reference    11499\n",
       "Period              11499\n",
       "Data_value          11496\n",
       "STATUS              11499\n",
       "UNITS               11499\n",
       "Judul               11499\n",
       "Group               11499\n",
       "dtype: int64"
      ]
     },
     "execution_count": 51,
     "metadata": {},
     "output_type": "execute_result"
    }
   ],
   "source": [
    "df.count()"
   ]
  },
  {
   "cell_type": "code",
   "execution_count": 52,
   "metadata": {},
   "outputs": [
    {
     "data": {
      "text/html": [
       "<div>\n",
       "<style scoped>\n",
       "    .dataframe tbody tr th:only-of-type {\n",
       "        vertical-align: middle;\n",
       "    }\n",
       "\n",
       "    .dataframe tbody tr th {\n",
       "        vertical-align: top;\n",
       "    }\n",
       "\n",
       "    .dataframe thead th {\n",
       "        text-align: right;\n",
       "    }\n",
       "</style>\n",
       "<table border=\"1\" class=\"dataframe\">\n",
       "  <thead>\n",
       "    <tr style=\"text-align: right;\">\n",
       "      <th></th>\n",
       "      <th>Series_reference</th>\n",
       "      <th>Period</th>\n",
       "      <th>Data_value</th>\n",
       "      <th>STATUS</th>\n",
       "      <th>UNITS</th>\n",
       "      <th>Judul</th>\n",
       "      <th>Group</th>\n",
       "    </tr>\n",
       "  </thead>\n",
       "  <tbody>\n",
       "    <tr>\n",
       "      <th>0</th>\n",
       "      <td>CPIM.SE901</td>\n",
       "      <td>1960.01</td>\n",
       "      <td>45.923461</td>\n",
       "      <td>FINAL</td>\n",
       "      <td>Index</td>\n",
       "      <td>Consumers Price Index - CPI</td>\n",
       "      <td>Food Price Index for New Zealand</td>\n",
       "    </tr>\n",
       "    <tr>\n",
       "      <th>1</th>\n",
       "      <td>CPIM.SE901</td>\n",
       "      <td>1960.02</td>\n",
       "      <td>45.498637</td>\n",
       "      <td>FINAL</td>\n",
       "      <td>Index</td>\n",
       "      <td>Consumers Price Index - CPI</td>\n",
       "      <td>Food Price Index for New Zealand</td>\n",
       "    </tr>\n",
       "    <tr>\n",
       "      <th>2</th>\n",
       "      <td>CPIM.SE901</td>\n",
       "      <td>1960.03</td>\n",
       "      <td>45.116296</td>\n",
       "      <td>FINAL</td>\n",
       "      <td>Index</td>\n",
       "      <td>Consumers Price Index - CPI</td>\n",
       "      <td>Food Price Index for New Zealand</td>\n",
       "    </tr>\n",
       "    <tr>\n",
       "      <th>3</th>\n",
       "      <td>CPIM.SE901</td>\n",
       "      <td>1960.04</td>\n",
       "      <td>45.158779</td>\n",
       "      <td>FINAL</td>\n",
       "      <td>Index</td>\n",
       "      <td>Consumers Price Index - CPI</td>\n",
       "      <td>Food Price Index for New Zealand</td>\n",
       "    </tr>\n",
       "    <tr>\n",
       "      <th>4</th>\n",
       "      <td>CPIM.SE901</td>\n",
       "      <td>1960.05</td>\n",
       "      <td>45.286226</td>\n",
       "      <td>FINAL</td>\n",
       "      <td>Index</td>\n",
       "      <td>Consumers Price Index - CPI</td>\n",
       "      <td>Food Price Index for New Zealand</td>\n",
       "    </tr>\n",
       "  </tbody>\n",
       "</table>\n",
       "</div>"
      ],
      "text/plain": [
       "  Series_reference   Period  Data_value STATUS  UNITS  \\\n",
       "0       CPIM.SE901  1960.01   45.923461  FINAL  Index   \n",
       "1       CPIM.SE901  1960.02   45.498637  FINAL  Index   \n",
       "2       CPIM.SE901  1960.03   45.116296  FINAL  Index   \n",
       "3       CPIM.SE901  1960.04   45.158779  FINAL  Index   \n",
       "4       CPIM.SE901  1960.05   45.286226  FINAL  Index   \n",
       "\n",
       "                         Judul                             Group  \n",
       "0  Consumers Price Index - CPI  Food Price Index for New Zealand  \n",
       "1  Consumers Price Index - CPI  Food Price Index for New Zealand  \n",
       "2  Consumers Price Index - CPI  Food Price Index for New Zealand  \n",
       "3  Consumers Price Index - CPI  Food Price Index for New Zealand  \n",
       "4  Consumers Price Index - CPI  Food Price Index for New Zealand  "
      ]
     },
     "execution_count": 52,
     "metadata": {},
     "output_type": "execute_result"
    }
   ],
   "source": [
    "df = df.drop_duplicates()\n",
    "df.head(5)"
   ]
  },
  {
   "cell_type": "code",
   "execution_count": 53,
   "metadata": {},
   "outputs": [
    {
     "data": {
      "text/plain": [
       "Series_reference    11499\n",
       "Period              11499\n",
       "Data_value          11496\n",
       "STATUS              11499\n",
       "UNITS               11499\n",
       "Judul               11499\n",
       "Group               11499\n",
       "dtype: int64"
      ]
     },
     "execution_count": 53,
     "metadata": {},
     "output_type": "execute_result"
    }
   ],
   "source": [
    "df.count()"
   ]
  },
  {
   "cell_type": "code",
   "execution_count": 54,
   "metadata": {},
   "outputs": [
    {
     "name": "stdout",
     "output_type": "stream",
     "text": [
      "Series_reference    0\n",
      "Period              0\n",
      "Data_value          3\n",
      "STATUS              0\n",
      "UNITS               0\n",
      "Judul               0\n",
      "Group               0\n",
      "dtype: int64\n"
     ]
    }
   ],
   "source": [
    "print(df.isnull().sum())"
   ]
  },
  {
   "cell_type": "code",
   "execution_count": 55,
   "metadata": {},
   "outputs": [
    {
     "data": {
      "text/plain": [
       "Series_reference    11496\n",
       "Period              11496\n",
       "Data_value          11496\n",
       "STATUS              11496\n",
       "UNITS               11496\n",
       "Judul               11496\n",
       "Group               11496\n",
       "dtype: int64"
      ]
     },
     "execution_count": 55,
     "metadata": {},
     "output_type": "execute_result"
    }
   ],
   "source": [
    "df = df.dropna()    # Dropping the missing values.\n",
    "df.count()"
   ]
  },
  {
   "cell_type": "code",
   "execution_count": 56,
   "metadata": {},
   "outputs": [
    {
     "name": "stdout",
     "output_type": "stream",
     "text": [
      "Series_reference    0\n",
      "Period              0\n",
      "Data_value          0\n",
      "STATUS              0\n",
      "UNITS               0\n",
      "Judul               0\n",
      "Group               0\n",
      "dtype: int64\n"
     ]
    }
   ],
   "source": [
    "print(df.isnull().sum())"
   ]
  },
  {
   "cell_type": "code",
   "execution_count": 8,
   "metadata": {
    "scrolled": true
   },
   "outputs": [
    {
     "data": {
      "text/plain": [
       "<matplotlib.axes._subplots.AxesSubplot at 0x26a67c9aef0>"
      ]
     },
     "execution_count": 8,
     "metadata": {},
     "output_type": "execute_result"
    },
    {
     "data": {
      "image/png": "[encoded data removed]",
      "text/plain": [
       "<matplotlib.figure.Figure at 0x26a67cab470>"
      ]
     },
     "metadata": {},
     "output_type": "display_data"
    }
   ],
   "source": [
    "sns.set(color_codes=True)\n",
    "\n",
    "sns.boxplot(x=df['Data_value'])"
   ]
  },
  {
   "cell_type": "code",
   "execution_count": 57,
   "metadata": {},
   "outputs": [
    {
     "data": {
      "text/plain": [
       "<matplotlib.axes._subplots.AxesSubplot at 0x22363ff2d30>"
      ]
     },
     "execution_count": 57,
     "metadata": {},
     "output_type": "execute_result"
    },
    {
     "data": {
      "image/png": "[encoded data removed]",
      "text/plain": [
       "<matplotlib.figure.Figure at 0x223640a5550>"
      ]
     },
     "metadata": {},
     "output_type": "display_data"
    }
   ],
   "source": [
    "sns.boxplot(x=df['Period'])"
   ]
  },
  {
   "cell_type": "code",
   "execution_count": 9,
   "metadata": {},
   "outputs": [
    {
     "name": "stdout",
     "output_type": "stream",
     "text": [
      "Period         13.970000\n",
      "Data_value    318.626577\n",
      "dtype: float64\n"
     ]
    }
   ],
   "source": [
    "Q1 = df.quantile(0.25)\n",
    "Q3 = df.quantile(0.75)\n",
    "IQR = Q3 - Q1\n",
    "print(IQR)"
   ]
  },
  {
   "cell_type": "code",
   "execution_count": 69,
   "metadata": {},
   "outputs": [
    {
     "data": {
      "text/plain": [
       "(11496, 7)"
      ]
     },
     "execution_count": 69,
     "metadata": {},
     "output_type": "execute_result"
    }
   ],
   "source": [
    "Q1 = df.quantile(0.25)\n",
    "Q3 = df.quantile(0.75)\n",
    "IQR = Q3 - Q1\n",
    "df.shape"
   ]
  },
  {
   "cell_type": "code",
   "execution_count": 17,
   "metadata": {},
   "outputs": [
    {
     "data": {
      "image/png": "[encoded data removed]",
      "text/plain": [
       "<matplotlib.figure.Figure at 0x26a67ffe208>"
      ]
     },
     "metadata": {},
     "output_type": "display_data"
    }
   ],
   "source": [
    "df.Data_value.value_counts().nlargest(40).plot(kind='bar', figsize=(10,5))\n",
    "plt.title(\"Food Price index for New Zealand\")\n",
    "plt.ylabel('Period')\n",
    "plt.xlabel('Data_value');"
   ]
  },
  {
   "cell_type": "code",
   "execution_count": 11,
   "metadata": {},
   "outputs": [
    {
     "data": {
      "text/html": [
       "<div>\n",
       "<style scoped>\n",
       "    .dataframe tbody tr th:only-of-type {\n",
       "        vertical-align: middle;\n",
       "    }\n",
       "\n",
       "    .dataframe tbody tr th {\n",
       "        vertical-align: top;\n",
       "    }\n",
       "\n",
       "    .dataframe thead th {\n",
       "        text-align: right;\n",
       "    }\n",
       "</style>\n",
       "<table border=\"1\" class=\"dataframe\">\n",
       "  <thead>\n",
       "    <tr style=\"text-align: right;\">\n",
       "      <th></th>\n",
       "      <th>Period</th>\n",
       "      <th>Data_value</th>\n",
       "    </tr>\n",
       "  </thead>\n",
       "  <tbody>\n",
       "    <tr>\n",
       "      <th>Period</th>\n",
       "      <td>1.000000</td>\n",
       "      <td>0.921887</td>\n",
       "    </tr>\n",
       "    <tr>\n",
       "      <th>Data_value</th>\n",
       "      <td>0.921887</td>\n",
       "      <td>1.000000</td>\n",
       "    </tr>\n",
       "  </tbody>\n",
       "</table>\n",
       "</div>"
      ],
      "text/plain": [
       "              Period  Data_value\n",
       "Period      1.000000    0.921887\n",
       "Data_value  0.921887    1.000000"
      ]
     },
     "execution_count": 11,
     "metadata": {},
     "output_type": "execute_result"
    },
    {
     "data": {
      "image/png": "[encoded data removed]",
      "text/plain": [
       "<matplotlib.figure.Figure at 0x26a67775780>"
      ]
     },
     "metadata": {},
     "output_type": "display_data"
    }
   ],
   "source": [
    "plt.figure(figsize=(10,5))\n",
    "c= df.corr()\n",
    "sns.heatmap(c,cmap=\"BrBG\",annot=True)\n",
    "c"
   ]
  },
  {
   "cell_type": "code",
   "execution_count": 19,
   "metadata": {},
   "outputs": [
    {
     "data": {
      "image/png": "[encoded data removed]",
      "text/plain": [
       "<matplotlib.figure.Figure at 0x26a693ec400>"
      ]
     },
     "metadata": {},
     "output_type": "display_data"
    }
   ],
   "source": [
    "fig, ax = plt.subplots(figsize=(10,6))\n",
    "ax.scatter(df['Period'], df['Data_value'])\n",
    "ax.set_xlabel('Period')\n",
    "ax.set_ylabel('Data_value')\n",
    "plt.show()"
   ]
  },
  {
   "cell_type": "markdown",
   "metadata": {},
   "source": [
    "Setelah melakukan praktikum, dapat dianalisis bahwa :\n",
    "- DataSet yang digunakan pada Praktikum ini adalah food-price-index-August 20th index numbers.\n",
    "- DataSet yang digunakan harus berformat txt atau csv dan disimpan dalam suatu folder.\n",
    "- Sebelum memasukkan SourceCode, inputkan libraries. Dimana libraries digunakan untuk membantu dalam mengolah atau mengerjakan \n",
    "  task.\n",
    "- Pada Praktikum kali ini terdapat perintah yang digunakan untuk memuat data ke dalam jupyter notebook. Dimana perintah tersebut \n",
    "  hanya memanggil 5 baris dan output tersebut akan menampilkan isi dari Dataset.\n",
    "- Mengecheck tipe-tipe data.\n",
    "- Menghapus kolom yang tidak diinginkan, maka output tersebut tidak akan menampilkan kolom yang dihapus.\n",
    "- Merename kolom, Misal pada suatu kolom bernama subject diubah menjadi judul, maka output pada kolom subject berubah menjadi \n",
    "  judul.\n",
    "- Menghapus semua nilai duplikat dari kumpulan data.\n",
    "- Menghapus sebagian besar niali mirip tetapi di sini semua nilai yang hilang terdeteksi dan dihapus nanti.\n",
    "- Mendeteksi Pencilan adalah titik atau sekumpulan titik yang berbeda dari titik lainnya.\n",
    "- Histogram adalah tampilan grafis batangan sebagai manifestasi data binning.\n",
    "- Heatmap merupakan teknik untuk mengetahui perilaku pengunjung suatu situs dengan menyediakan data berupa statistik.\n",
    "- Scatterrplot adalah gambaran yang menunjukkan kemungkinan hubungan( korelasi ) antara pasangan dua macam variabel tersebut \n",
    "  yang sering diwujudkan sebagai koefisien korelasi.\n"
   ]
  }
 ],
 "metadata": {
  "kernelspec": {
   "display_name": "Python 3",
   "language": "python",
   "name": "python3"
  },
  "language_info": {
   "codemirror_mode": {
    "name": "ipython",
    "version": 3
   },
   "file_extension": ".py",
   "mimetype": "text/x-python",
   "name": "python",
   "nbconvert_exporter": "python",
   "pygments_lexer": "ipython3",
   "version": "3.7.6"
  }
 },
 "nbformat": 4,
 "nbformat_minor": 2
}
